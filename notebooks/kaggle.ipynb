{
 "cells": [
  {
   "cell_type": "code",
   "execution_count": 1,
   "metadata": {},
   "outputs": [],
   "source": [
    "%matplotlib inline"
   ]
  },
  {
   "cell_type": "code",
   "execution_count": 2,
   "metadata": {},
   "outputs": [],
   "source": [
    "import torch\n",
    "import torch.nn as nn\n",
    "import torch.optim as optim\n",
    "\n",
    "from torch.optim import lr_scheduler\n",
    "from torch.utils.data import Dataset, DataLoader\n",
    "\n",
    "import torchvision\n",
    "from torchvision import transforms, models\n",
    "\n",
    "import os\n",
    "import sys\n",
    "import pandas as pd\n",
    "\n",
    "from PIL import Image\n",
    "import matplotlib.pyplot as plt\n",
    "from tqdm import tqdm\n",
    "\n",
    "sys.path.append('../src')\n",
    "from densenet import densenet_cifar"
   ]
  },
  {
   "cell_type": "code",
   "execution_count": 3,
   "metadata": {},
   "outputs": [],
   "source": [
    "plt.style.use('seaborn-darkgrid')"
   ]
  },
  {
   "cell_type": "code",
   "execution_count": 4,
   "metadata": {},
   "outputs": [],
   "source": [
    "data_dir = '../data/kaggle/test/'"
   ]
  },
  {
   "cell_type": "code",
   "execution_count": 5,
   "metadata": {},
   "outputs": [],
   "source": [
    "mapping = {\n",
    "    'airplane': 0,\n",
    "    'automobile': 1,\n",
    "    'bird': 2,\n",
    "    'cat': 3,\n",
    "    'deer': 4,\n",
    "    'dog': 5,\n",
    "    'frog': 6,\n",
    "    'horse': 7,\n",
    "    'ship': 8,\n",
    "    'truck': 9,\n",
    "}\n",
    "\n",
    "reverse_mapping = {val: key for key, val in mapping.items()}"
   ]
  },
  {
   "cell_type": "code",
   "execution_count": 6,
   "metadata": {},
   "outputs": [],
   "source": [
    "test_transform = transforms.Compose([\n",
    "    transforms.ToTensor(),\n",
    "    transforms.Normalize(mean=(0.4914, 0.4822, 0.4465), std=(0.247, 0.243, 0.261)),\n",
    "])"
   ]
  },
  {
   "cell_type": "code",
   "execution_count": 7,
   "metadata": {},
   "outputs": [],
   "source": [
    "class Summary:\n",
    "    def __init__(self, model_class):\n",
    "        self._model_class = model_class\n",
    "        self._epochs = {\n",
    "            'train': [],\n",
    "            'valid': []\n",
    "        }\n",
    "        self._losses = {\n",
    "            'train': [],\n",
    "            'valid': []\n",
    "        }\n",
    "        self._accuracies = {\n",
    "            'train': [],\n",
    "            'valid': []\n",
    "        }\n",
    "        \n",
    "        self._best = {\n",
    "            'accuracy': 0,\n",
    "            'weights': None\n",
    "        }\n",
    "        \n",
    "        self._lr = []\n",
    "        \n",
    "        self._start = 0\n",
    "        self._durations = [0]\n",
    "        \n",
    "    def start(self):\n",
    "        self._start = time.time()\n",
    "    \n",
    "    def stop(self):\n",
    "        if self._start == 0:\n",
    "            raise RuntimeException('Executing Summary.stop() without Summary.start()')\n",
    "        self._durations.append(time.time() - self._start)\n",
    "        self._start = 0\n",
    "    \n",
    "    def set_best(self, accuracy, weights):\n",
    "        self._best['accuracy'] = accuracy\n",
    "        self._best['weights'] = weights\n",
    "    \n",
    "    @property\n",
    "    def duration(self):\n",
    "        return sum(self._durations)\n",
    "    \n",
    "    @property\n",
    "    def best_accuracy(self):\n",
    "        return self._best['accuracy']\n",
    "        \n",
    "    def add(self, epoch, loss, accuracy, lr=None, phase='train'):\n",
    "        assert phase in ['train', 'valid']\n",
    "        self._epochs[phase].append(epoch)\n",
    "        self._losses[phase].append(loss)\n",
    "        self._accuracies[phase].append(accuracy)\n",
    "        if not lr is None:\n",
    "            self._lr.append(lr)\n",
    "        \n",
    "    def plot_loss(self, figsize):\n",
    "        fig = plt.figure(figsize=figsize)\n",
    "        plt.plot(self._epochs['train'], self._losses['train'], label='Train')\n",
    "        plt.plot(self._epochs['valid'], self._losses['valid'], label='Valid')\n",
    "        plt.title('Loss Plot')\n",
    "        plt.xlabel('Epochs')\n",
    "        plt.ylabel('Loss')\n",
    "        plt.legend()\n",
    "        plt.show()\n",
    "\n",
    "    def plot_accuracy(self, figsize):\n",
    "        fig = plt.figure(figsize=figsize)\n",
    "        plt.plot(self._epochs['train'], self._accuracies['train'], label='Train')\n",
    "        plt.plot(self._epochs['valid'], self._accuracies['valid'], label='Valid')\n",
    "        plt.title('Accuracy Plot')\n",
    "        plt.xlabel('Epochs')\n",
    "        plt.ylabel('Accuracy [%]')\n",
    "        plt.legend()\n",
    "        plt.show()\n",
    "        \n",
    "    def plot_lr(self, figsize):\n",
    "        fig = plt.figure(figsize=figsize)\n",
    "        plt.plot(self._epochs['train'], self._lr)\n",
    "        plt.title('Learning Rate')\n",
    "        plt.xlabel('Epochs')\n",
    "        plt.ylabel('Value')\n",
    "        plt.show()\n",
    "        \n",
    "    def summarise(self):\n",
    "        print(f'Training complete in {str(datetime.timedelta(seconds=self.duration))}')\n",
    "        print(f'Total training epochs: {self._epochs[\"train\"][-1]}')\n",
    "        print(f'Best validation accuracy: {self._best[\"accuracy\"]:.4f}')"
   ]
  },
  {
   "cell_type": "code",
   "execution_count": 8,
   "metadata": {},
   "outputs": [],
   "source": [
    "class KaggleTestDataset(Dataset):\n",
    "    def __init__(self, data_dir, transform=None):\n",
    "        self.data_dir = data_dir\n",
    "        self.f_names = os.listdir(data_dir)\n",
    "        self.transform = transform\n",
    "        \n",
    "    def __len__(self):\n",
    "        return len(self.f_names)\n",
    "    \n",
    "    def __getitem__(self, idx):\n",
    "        f_name = self.f_names[idx]\n",
    "        f_path = os.path.join(self.data_dir, f_name)\n",
    "        image = Image.open(f_path)\n",
    "        if not self.transform is None:\n",
    "            image = self.transform(image)\n",
    "        return image, f_name.replace('.png', '')"
   ]
  },
  {
   "cell_type": "code",
   "execution_count": 9,
   "metadata": {},
   "outputs": [],
   "source": [
    "test_dataset = KaggleTestDataset(data_dir, test_transform)\n",
    "test_loader = DataLoader(test_dataset, batch_size=64, shuffle=False, num_workers=4)"
   ]
  },
  {
   "cell_type": "code",
   "execution_count": 10,
   "metadata": {},
   "outputs": [],
   "source": [
    "device = torch.device(\"cuda:0\" if torch.cuda.is_available() else \"cpu\")"
   ]
  },
  {
   "cell_type": "code",
   "execution_count": 11,
   "metadata": {},
   "outputs": [],
   "source": [
    "model = densenet_cifar()\n",
    "model = model.to(device)"
   ]
  },
  {
   "cell_type": "code",
   "execution_count": 12,
   "metadata": {},
   "outputs": [],
   "source": [
    "def load_best_model(path, model):\n",
    "    progress_dict = torch.load(path)\n",
    "    summary = progress_dict['summary']\n",
    "    model.load_state_dict(summary._best['weights'])\n",
    "    return model\n",
    "\n",
    "model = load_best_model('../models/custom_densenet_cos_95', model)"
   ]
  },
  {
   "cell_type": "code",
   "execution_count": 13,
   "metadata": {},
   "outputs": [],
   "source": [
    "def predict(model, dataloader, class_mapping):\n",
    "    all_names, all_labels = [], []\n",
    "    for data, names in tqdm(dataloader):\n",
    "        data = data.to(device)\n",
    "        y_preds = model(data)\n",
    "        pred_labels = torch.argmax(y_preds, dim=1).cpu().data.numpy().tolist()\n",
    "        all_names += names\n",
    "        all_labels += pred_labels\n",
    "        \n",
    "    df = pd.DataFrame({'id': all_names, 'label': [class_mapping[label] for label in all_labels]})\n",
    "    return df"
   ]
  },
  {
   "cell_type": "code",
   "execution_count": 14,
   "metadata": {},
   "outputs": [
    {
     "name": "stderr",
     "output_type": "stream",
     "text": [
      "100%|██████████| 4688/4688 [06:30<00:00, 12.00it/s]\n"
     ]
    }
   ],
   "source": [
    "df = predict(model, test_loader, reverse_mapping)\n",
    "# df.to_csv('../data/test/submission.csv')"
   ]
  },
  {
   "cell_type": "code",
   "execution_count": 15,
   "metadata": {},
   "outputs": [
    {
     "data": {
      "text/html": [
       "<div>\n",
       "<style scoped>\n",
       "    .dataframe tbody tr th:only-of-type {\n",
       "        vertical-align: middle;\n",
       "    }\n",
       "\n",
       "    .dataframe tbody tr th {\n",
       "        vertical-align: top;\n",
       "    }\n",
       "\n",
       "    .dataframe thead th {\n",
       "        text-align: right;\n",
       "    }\n",
       "</style>\n",
       "<table border=\"1\" class=\"dataframe\">\n",
       "  <thead>\n",
       "    <tr style=\"text-align: right;\">\n",
       "      <th></th>\n",
       "      <th>id</th>\n",
       "      <th>label</th>\n",
       "    </tr>\n",
       "  </thead>\n",
       "  <tbody>\n",
       "    <tr>\n",
       "      <th>0</th>\n",
       "      <td>163570</td>\n",
       "      <td>frog</td>\n",
       "    </tr>\n",
       "    <tr>\n",
       "      <th>1</th>\n",
       "      <td>193189</td>\n",
       "      <td>cat</td>\n",
       "    </tr>\n",
       "    <tr>\n",
       "      <th>2</th>\n",
       "      <td>28347</td>\n",
       "      <td>ship</td>\n",
       "    </tr>\n",
       "    <tr>\n",
       "      <th>3</th>\n",
       "      <td>38690</td>\n",
       "      <td>horse</td>\n",
       "    </tr>\n",
       "    <tr>\n",
       "      <th>4</th>\n",
       "      <td>63974</td>\n",
       "      <td>deer</td>\n",
       "    </tr>\n",
       "  </tbody>\n",
       "</table>\n",
       "</div>"
      ],
      "text/plain": [
       "       id  label\n",
       "0  163570   frog\n",
       "1  193189    cat\n",
       "2   28347   ship\n",
       "3   38690  horse\n",
       "4   63974   deer"
      ]
     },
     "execution_count": 15,
     "metadata": {},
     "output_type": "execute_result"
    }
   ],
   "source": [
    "df.head()"
   ]
  },
  {
   "cell_type": "code",
   "execution_count": 16,
   "metadata": {},
   "outputs": [
    {
     "data": {
      "text/plain": [
       "300000"
      ]
     },
     "execution_count": 16,
     "metadata": {},
     "output_type": "execute_result"
    }
   ],
   "source": [
    "len(df)"
   ]
  },
  {
   "cell_type": "code",
   "execution_count": 19,
   "metadata": {},
   "outputs": [
    {
     "data": {
      "text/html": [
       "<div>\n",
       "<style scoped>\n",
       "    .dataframe tbody tr th:only-of-type {\n",
       "        vertical-align: middle;\n",
       "    }\n",
       "\n",
       "    .dataframe tbody tr th {\n",
       "        vertical-align: top;\n",
       "    }\n",
       "\n",
       "    .dataframe thead th {\n",
       "        text-align: right;\n",
       "    }\n",
       "</style>\n",
       "<table border=\"1\" class=\"dataframe\">\n",
       "  <thead>\n",
       "    <tr style=\"text-align: right;\">\n",
       "      <th></th>\n",
       "      <th>id</th>\n",
       "      <th>label</th>\n",
       "    </tr>\n",
       "  </thead>\n",
       "  <tbody>\n",
       "    <tr>\n",
       "      <th>293082</th>\n",
       "      <td>1</td>\n",
       "      <td>truck</td>\n",
       "    </tr>\n",
       "    <tr>\n",
       "      <th>39395</th>\n",
       "      <td>2</td>\n",
       "      <td>airplane</td>\n",
       "    </tr>\n",
       "    <tr>\n",
       "      <th>222900</th>\n",
       "      <td>3</td>\n",
       "      <td>automobile</td>\n",
       "    </tr>\n",
       "    <tr>\n",
       "      <th>240909</th>\n",
       "      <td>4</td>\n",
       "      <td>ship</td>\n",
       "    </tr>\n",
       "    <tr>\n",
       "      <th>85740</th>\n",
       "      <td>5</td>\n",
       "      <td>airplane</td>\n",
       "    </tr>\n",
       "  </tbody>\n",
       "</table>\n",
       "</div>"
      ],
      "text/plain": [
       "        id       label\n",
       "293082   1       truck\n",
       "39395    2    airplane\n",
       "222900   3  automobile\n",
       "240909   4        ship\n",
       "85740    5    airplane"
      ]
     },
     "execution_count": 19,
     "metadata": {},
     "output_type": "execute_result"
    }
   ],
   "source": [
    "df_sorted = df.copy()\n",
    "df_sorted['id'] = df_sorted['id'].apply(int)\n",
    "df_sorted = df_sorted.sort_values(by=['id'])\n",
    "df_sorted.head()"
   ]
  },
  {
   "cell_type": "code",
   "execution_count": 21,
   "metadata": {},
   "outputs": [
    {
     "name": "stderr",
     "output_type": "stream",
     "text": [
      "100%|██████████| 30000/30000 [00:08<00:00, 3642.28it/s]\n"
     ]
    }
   ],
   "source": [
    "for i in tqdm(range(30000)):\n",
    "    if not df_sorted.loc[i]['label'] == df.loc[i]['label']:\n",
    "        raise RuntimeError"
   ]
  },
  {
   "cell_type": "code",
   "execution_count": 22,
   "metadata": {},
   "outputs": [],
   "source": [
    "df_sorted.to_csv('../data/kaggle/submission.csv', index=False)"
   ]
  },
  {
   "cell_type": "code",
   "execution_count": 21,
   "metadata": {},
   "outputs": [
    {
     "data": {
      "image/png": "[encoded data removed]",
      "text/plain": [
       "<Figure size 432x288 with 1 Axes>"
      ]
     },
     "metadata": {},
     "output_type": "display_data"
    }
   ],
   "source": [
    "img_id = 28347\n",
    "img = plt.imread(f'../data/kaggle/test/{img_id}.png')\n",
    "plt.imshow(img)\n",
    "plt.show()"
   ]
  },
  {
   "cell_type": "code",
   "execution_count": null,
   "metadata": {},
   "outputs": [],
   "source": []
  }
 ],
 "metadata": {
  "kernelspec": {
   "display_name": "Python 3",
   "language": "python",
   "name": "python3"
  },
  "language_info": {
   "codemirror_mode": {
    "name": "ipython",
    "version": 3
   },
   "file_extension": ".py",
   "mimetype": "text/x-python",
   "name": "python",
   "nbconvert_exporter": "python",
   "pygments_lexer": "ipython3",
   "version": "3.7.3"
  }
 },
 "nbformat": 4,
 "nbformat_minor": 2
}
